{
 "cells": [
  {
   "cell_type": "code",
   "execution_count": 1,
   "id": "fcc102f2",
   "metadata": {},
   "outputs": [],
   "source": [
    "#Guess the Number"
   ]
  },
  {
   "cell_type": "code",
   "execution_count": 2,
   "id": "70a99374",
   "metadata": {},
   "outputs": [],
   "source": [
    "import random"
   ]
  },
  {
   "cell_type": "code",
   "execution_count": 5,
   "id": "c3abd4d9",
   "metadata": {},
   "outputs": [
    {
     "name": "stdout",
     "output_type": "stream",
     "text": [
      "33\n",
      "donnez un nombre entre 1 et 10012\n",
      "petit\n",
      "donnez un nombre entre 1 et 10035\n",
      "grand\n",
      "donnez un nombre entre 1 et 10033\n",
      "gagné\n"
     ]
    }
   ],
   "source": [
    "# random gagnant\n",
    "ng = random.randint(1,100)\n",
    "print(ng)\n",
    "while True :\n",
    "    #Nombre True\n",
    "    nu = int(input(\"donnez un nombre entre 1 et 100\"))\n",
    "    \n",
    "    if nu < ng:\n",
    "        print(\"petit\")\n",
    "    elif nu > ng:\n",
    "        print(\"grand\")\n",
    "    else:\n",
    "        print(\"gagné\")\n",
    "        break\n",
    "    "
   ]
  },
  {
   "cell_type": "code",
   "execution_count": null,
   "id": "7a838233",
   "metadata": {},
   "outputs": [
    {
     "name": "stdout",
     "output_type": "stream",
     "text": [
      "52\n"
     ]
    }
   ],
   "source": [
    "# random gagnant\n",
    "ng = random.randint(1,100)\n",
    "print(ng)\n",
    "while True :\n",
    "    #Nombre True\n",
    "    nu = int(input(\"donnez un nombre entre 1 et 100\"))\n",
    "    \n",
    "    if nu < ng:\n",
    "        print(\"petit\")\n",
    "    elif nu > ng:\n",
    "        print(\"grand\")\n",
    "    else:\n",
    "        print(\"gagné\")\n",
    "        break"
   ]
  },
  {
   "cell_type": "code",
   "execution_count": null,
   "id": "8d8e88f7",
   "metadata": {},
   "outputs": [],
   "source": []
  }
 ],
 "metadata": {
  "kernelspec": {
   "display_name": "Python 3 (ipykernel)",
   "language": "python",
   "name": "python3"
  },
  "language_info": {
   "codemirror_mode": {
    "name": "ipython",
    "version": 3
   },
   "file_extension": ".py",
   "mimetype": "text/x-python",
   "name": "python",
   "nbconvert_exporter": "python",
   "pygments_lexer": "ipython3",
   "version": "3.10.9"
  }
 },
 "nbformat": 4,
 "nbformat_minor": 5
}
